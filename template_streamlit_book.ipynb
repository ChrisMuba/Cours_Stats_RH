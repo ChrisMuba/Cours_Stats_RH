{
 "cells": [
  {
   "cell_type": "code",
   "execution_count": null,
   "id": "7a83602f",
   "metadata": {},
   "outputs": [],
   "source": [
    "import streamlit as st\n",
    "import streamlit_book as stb\n",
    "from  PIL import Image, ImageEnhance\n",
    "\n",
    "# Streamlit book properties\n",
    "stb.set_book_config(path=\"template_streamlit_book\",toc=False,button_previous='⬅️',button_next='➡️',button_refresh='🔄',)\n",
    "\n",
    "#Add a logo (optional) in the sidebar\n",
    "logo = Image.open(r'C:\\Users\\13525\\Desktop\\Insights_Bees_logo.png')\n",
    "st.sidebar.image(logo,  width=120)\n",
    "#Add two expanders to provide additional information about this e-tutorial and the app\n",
    "with st.sidebar.expander(\"About this e-Tutorial\"):\n",
    "     st.write(\"\"\"\n",
    "        This interactive eCourse is designed to help beginner data analysts and data scientists to learn Python's most popular data analysis library, Pandas, for their day-to-day analytics and data science work. \n",
    "     \"\"\")\n",
    "\n",
    "with st.sidebar.expander(\"About the App\"):\n",
    "     st.write(\"\"\"\n",
    "        This interactive eCourse App was built by My Data Talk using Streamlit and Streamlit_book. Streamlit_book is a Streamlit companion library that was written in Python and created by Sebastian Flores Benner. \\n  \\nThe Streamlit_book library was released on 01/20/2022. If you want to learn more about Streamlit_book, please read Sebastian's post here:https://blog.streamlit.io/how-to-create-interactive-books-with-streamlit-and-streamlit-book-in-5-steps/\n",
    "     \"\"\")\n",
    "\n",
    "#Create a user feedback section to collect comments and ratings from users\n",
    "with st.sidebar.form(key='columns_in_form',clear_on_submit=True): #set clear_on_submit=True so that the form will be reset/cleared once it's submitted\n",
    "    rating=st.slider(\"Please rate the app\", min_value=1, max_value=5, value=3,help='Drag the slider to rate the app. This is a 1-5 rating scale where 5 is the highest rating')\n",
    "    text=st.text_input(label='Please leave your feedback here')\n",
    "    submitted = st.form_submit_button('Submit')\n",
    "    if submitted:\n",
    "      st.write('Thanks for your feedback!')\n",
    "      st.markdown('Your Rating:')\n",
    "      st.markdown(rating)\n",
    "      st.markdown('Your Feedback:')\n",
    "      st.markdown(text)\n",
    "\n"
   ]
  }
 ],
 "metadata": {
  "kernelspec": {
   "display_name": "Python 3 (ipykernel)",
   "language": "python",
   "name": "python3"
  },
  "language_info": {
   "codemirror_mode": {
    "name": "ipython",
    "version": 3
   },
   "file_extension": ".py",
   "mimetype": "text/x-python",
   "name": "python",
   "nbconvert_exporter": "python",
   "pygments_lexer": "ipython3",
   "version": "3.10.10"
  }
 },
 "nbformat": 4,
 "nbformat_minor": 5
}
